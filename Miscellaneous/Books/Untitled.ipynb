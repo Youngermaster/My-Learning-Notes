{
 "cells": [
  {
   "cell_type": "markdown",
   "id": "f3b3aef7-3f67-4627-b5f8-926f2407bd1e",
   "metadata": {},
   "source": [
    "# Aprende a Debatir: \n",
    "## Aplicando Las 3 Técnicas Básicas para Ganar un Argumento"
   ]
  },
  {
   "cell_type": "markdown",
   "id": "e5e3964f-82c8-41c8-a3f5-2140d1082cdb",
   "metadata": {},
   "source": [
    "### Key Notes:\n",
    "\n",
    "Ideally, use a table in which we can distinguish: **the points in favor of the thesis**, **the points against**, and leave a space to write down **the points we want to investigate**.\n",
    "\n",
    "It is not enough to just have the proposal a-b-c, but **we must think about the possible setbacks** and **objections** that exist before point a, between a and b, b and c, and after c.\n",
    "\n",
    "The first thing we must do when presenting a case is to **define the keywords**.\n",
    "\n",
    "It may be useful to define a mechanism or a **“way to implement”** what is proposed.\n",
    "\n",
    "After this it is imperative to have a criterion. Criterion is **what must be demonstrated to win** the debate.\n",
    "\n",
    "Those who seek to change the status quo through their arguments are the ones who **have to show that the change will bring positive consequences**; so they bear the burden of proof. Meanwhile, those seeking to maintain the status quo must **only deny the burden**.\n",
    "\n",
    "It is useful to form a **R.E,A.L** argument:\n",
    "● **R**azón - Reason we support a certain point.\n",
    "● **E**videncia - Evidence that empirically supports our reason.\n",
    "● **A**nálisis - Analysis of the impact and importance of our reason.\n",
    "● **L**azo - Tie to the thesis criterion (say how our arguments impact the interested party(ies)).\n",
    "\n",
    "What if instead of saying, \"I'm nervous,\" I say, **\"I'm excited\"**?\n",
    "\n",
    "Rhetoric has to do with **how we persuasively communicate content**.\n",
    "\n",
    "Suppose we have to convince a group of people that blue is the best color. Instead of saying “blue is the best color”, we can say before “if you think about it, blue is the best color”, or, “it is sensible to think that blue is the best color”, or even “when Investigate, you will realize that blue is the best color ”.\n",
    "\n",
    "Using the same word as our opponents, but with a different interpretation is a particularly effective way to turn their criticisms around. For instance, when someone says *\"that initiative it's expensive\"*, you can say *\"It's more expensive not to approach that initiative\"*.\n",
    "\n",
    "Avoid *pet-words*.\n",
    "\n",
    "The *flagposts* is the technique that consists of giving a summary of what the arguments will be about before developing them\n",
    "\n",
    "Such large figures are extremely difficult to size, so you have to try to put them in measurements that can be visualized.\n",
    "\n",
    "By creating an image of the impact that a policy has, we evoke a greater response from whoever receives our argument. So when working with large numbers, it is recommended to find ways to land the numbers."
   ]
  }
 ],
 "metadata": {
  "kernelspec": {
   "display_name": "Python 3 (ipykernel)",
   "language": "python",
   "name": "python3"
  },
  "language_info": {
   "codemirror_mode": {
    "name": "ipython",
    "version": 3
   },
   "file_extension": ".py",
   "mimetype": "text/x-python",
   "name": "python",
   "nbconvert_exporter": "python",
   "pygments_lexer": "ipython3",
   "version": "3.10.4"
  }
 },
 "nbformat": 4,
 "nbformat_minor": 5
}
