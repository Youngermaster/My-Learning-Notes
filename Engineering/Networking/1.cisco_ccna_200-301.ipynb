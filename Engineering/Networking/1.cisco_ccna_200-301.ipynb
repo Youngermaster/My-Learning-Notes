{
 "cells": [
  {
   "cell_type": "markdown",
   "id": "1daabfa6-8e03-4341-9435-67a29516147a",
   "metadata": {},
   "source": [
    "# Cisco CCNA 200-301 Course"
   ]
  },
  {
   "cell_type": "code",
   "execution_count": null,
   "id": "f19d606b-e157-4e0a-8b24-65ae8ddba6f9",
   "metadata": {},
   "outputs": [],
   "source": []
  }
 ],
 "metadata": {
  "kernelspec": {
   "display_name": "Python 3 (ipykernel)",
   "language": "python",
   "name": "python3"
  },
  "language_info": {
   "codemirror_mode": {
    "name": "ipython",
    "version": 3
   },
   "file_extension": ".py",
   "mimetype": "text/x-python",
   "name": "python",
   "nbconvert_exporter": "python",
   "pygments_lexer": "ipython3",
   "version": "3.10.4"
  }
 },
 "nbformat": 4,
 "nbformat_minor": 5
}
